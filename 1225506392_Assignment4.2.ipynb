{
 "cells": [
  {
   "cell_type": "code",
   "execution_count": 2,
   "id": "0dd0af78",
   "metadata": {},
   "outputs": [
    {
     "name": "stdout",
     "output_type": "stream",
     "text": [
      "Requirement already satisfied: sklearn-genetic in c:\\users\\dipti\\anaconda3\\lib\\site-packages (0.5.1)\n",
      "Requirement already satisfied: scikit-learn>=0.23 in c:\\users\\dipti\\anaconda3\\lib\\site-packages (from sklearn-genetic) (1.1.1)\n",
      "Requirement already satisfied: deap>=1.0.2 in c:\\users\\dipti\\anaconda3\\lib\\site-packages (from sklearn-genetic) (1.3.3)\n",
      "Requirement already satisfied: multiprocess in c:\\users\\dipti\\anaconda3\\lib\\site-packages (from sklearn-genetic) (0.70.14)\n",
      "Requirement already satisfied: numpy in c:\\users\\dipti\\anaconda3\\lib\\site-packages (from sklearn-genetic) (1.21.5)\n",
      "Requirement already satisfied: threadpoolctl>=2.0.0 in c:\\users\\dipti\\anaconda3\\lib\\site-packages (from scikit-learn>=0.23->sklearn-genetic) (2.2.0)\n",
      "Requirement already satisfied: scipy>=1.3.2 in c:\\users\\dipti\\anaconda3\\lib\\site-packages (from scikit-learn>=0.23->sklearn-genetic) (1.7.3)\n",
      "Requirement already satisfied: joblib>=1.0.0 in c:\\users\\dipti\\anaconda3\\lib\\site-packages (from scikit-learn>=0.23->sklearn-genetic) (1.1.0)\n",
      "Requirement already satisfied: dill>=0.3.6 in c:\\users\\dipti\\anaconda3\\lib\\site-packages (from multiprocess->sklearn-genetic) (0.3.6)\n",
      "Note: you may need to restart the kernel to use updated packages.\n"
     ]
    }
   ],
   "source": [
    "pip install sklearn-genetic"
   ]
  },
  {
   "cell_type": "code",
   "execution_count": 3,
   "id": "0e7759de",
   "metadata": {},
   "outputs": [
    {
     "name": "stdout",
     "output_type": "stream",
     "text": [
      "Requirement already satisfied: vecstack in c:\\users\\dipti\\anaconda3\\lib\\site-packages (0.4.0)\n",
      "Requirement already satisfied: numpy in c:\\users\\dipti\\anaconda3\\lib\\site-packages (from vecstack) (1.21.5)\n",
      "Requirement already satisfied: scikit-learn>=0.18 in c:\\users\\dipti\\anaconda3\\lib\\site-packages (from vecstack) (1.1.1)\n",
      "Requirement already satisfied: scipy in c:\\users\\dipti\\anaconda3\\lib\\site-packages (from vecstack) (1.7.3)\n",
      "Requirement already satisfied: threadpoolctl>=2.0.0 in c:\\users\\dipti\\anaconda3\\lib\\site-packages (from scikit-learn>=0.18->vecstack) (2.2.0)\n",
      "Requirement already satisfied: joblib>=1.0.0 in c:\\users\\dipti\\anaconda3\\lib\\site-packages (from scikit-learn>=0.18->vecstack) (1.1.0)\n",
      "Requirement already satisfied: mlxtend in c:\\users\\dipti\\anaconda3\\lib\\site-packages (0.21.0)\n",
      "Requirement already satisfied: matplotlib>=3.0.0 in c:\\users\\dipti\\anaconda3\\lib\\site-packages (from mlxtend) (3.5.2)\n",
      "Requirement already satisfied: setuptools in c:\\users\\dipti\\anaconda3\\lib\\site-packages (from mlxtend) (63.4.1)\n",
      "Requirement already satisfied: joblib>=0.13.2 in c:\\users\\dipti\\anaconda3\\lib\\site-packages (from mlxtend) (1.1.0)\n",
      "Requirement already satisfied: scikit-learn>=1.0.2 in c:\\users\\dipti\\anaconda3\\lib\\site-packages (from mlxtend) (1.1.1)\n",
      "Requirement already satisfied: numpy>=1.16.2 in c:\\users\\dipti\\anaconda3\\lib\\site-packages (from mlxtend) (1.21.5)\n",
      "Requirement already satisfied: pandas>=0.24.2 in c:\\users\\dipti\\anaconda3\\lib\\site-packages (from mlxtend) (1.4.3)\n",
      "Requirement already satisfied: scipy>=1.2.1 in c:\\users\\dipti\\anaconda3\\lib\\site-packages (from mlxtend) (1.7.3)\n",
      "Requirement already satisfied: fonttools>=4.22.0 in c:\\users\\dipti\\anaconda3\\lib\\site-packages (from matplotlib>=3.0.0->mlxtend) (4.25.0)\n",
      "Requirement already satisfied: pillow>=6.2.0 in c:\\users\\dipti\\anaconda3\\lib\\site-packages (from matplotlib>=3.0.0->mlxtend) (9.2.0)\n",
      "Requirement already satisfied: pyparsing>=2.2.1 in c:\\users\\dipti\\anaconda3\\lib\\site-packages (from matplotlib>=3.0.0->mlxtend) (3.0.9)\n",
      "Requirement already satisfied: cycler>=0.10 in c:\\users\\dipti\\anaconda3\\lib\\site-packages (from matplotlib>=3.0.0->mlxtend) (0.11.0)\n",
      "Requirement already satisfied: python-dateutil>=2.7 in c:\\users\\dipti\\anaconda3\\lib\\site-packages (from matplotlib>=3.0.0->mlxtend) (2.8.2)\n",
      "Requirement already satisfied: kiwisolver>=1.0.1 in c:\\users\\dipti\\anaconda3\\lib\\site-packages (from matplotlib>=3.0.0->mlxtend) (1.4.2)\n",
      "Requirement already satisfied: packaging>=20.0 in c:\\users\\dipti\\anaconda3\\lib\\site-packages (from matplotlib>=3.0.0->mlxtend) (21.3)\n",
      "Requirement already satisfied: pytz>=2020.1 in c:\\users\\dipti\\anaconda3\\lib\\site-packages (from pandas>=0.24.2->mlxtend) (2022.1)\n",
      "Requirement already satisfied: threadpoolctl>=2.0.0 in c:\\users\\dipti\\anaconda3\\lib\\site-packages (from scikit-learn>=1.0.2->mlxtend) (2.2.0)\n",
      "Requirement already satisfied: six>=1.5 in c:\\users\\dipti\\anaconda3\\lib\\site-packages (from python-dateutil>=2.7->matplotlib>=3.0.0->mlxtend) (1.16.0)\n"
     ]
    }
   ],
   "source": [
    "!pip install vecstack\n",
    "!pip install mlxtend"
   ]
  },
  {
   "cell_type": "code",
   "execution_count": 4,
   "id": "2167b5ff",
   "metadata": {},
   "outputs": [
    {
     "name": "stdout",
     "output_type": "stream",
     "text": [
      "Requirement already satisfied: sklearn-deap in c:\\users\\dipti\\anaconda3\\lib\\site-packages (0.3.0)\n",
      "Requirement already satisfied: numpy>=1.9.3 in c:\\users\\dipti\\anaconda3\\lib\\site-packages (from sklearn-deap) (1.21.5)\n",
      "Requirement already satisfied: deap>=1.0.2 in c:\\users\\dipti\\anaconda3\\lib\\site-packages (from sklearn-deap) (1.3.3)\n",
      "Requirement already satisfied: scipy>=0.16.0 in c:\\users\\dipti\\anaconda3\\lib\\site-packages (from sklearn-deap) (1.7.3)\n",
      "Requirement already satisfied: scikit-learn>=0.24.0 in c:\\users\\dipti\\anaconda3\\lib\\site-packages (from sklearn-deap) (1.1.1)\n",
      "Requirement already satisfied: joblib>=1.0.0 in c:\\users\\dipti\\anaconda3\\lib\\site-packages (from scikit-learn>=0.24.0->sklearn-deap) (1.1.0)\n",
      "Requirement already satisfied: threadpoolctl>=2.0.0 in c:\\users\\dipti\\anaconda3\\lib\\site-packages (from scikit-learn>=0.24.0->sklearn-deap) (2.2.0)\n",
      "Note: you may need to restart the kernel to use updated packages.\n"
     ]
    }
   ],
   "source": [
    "pip install sklearn-deap"
   ]
  },
  {
   "cell_type": "code",
   "execution_count": 5,
   "id": "1b9d3e4f",
   "metadata": {},
   "outputs": [],
   "source": [
    "from vecstack import stacking\n",
    "import pandas as pd\n",
    "import numpy as np\n",
    "from sklearn.metrics import accuracy_score #works\n",
    "from sklearn.model_selection import train_test_split\n",
    "from sklearn.ensemble import RandomForestClassifier\n",
    "from sklearn.tree import DecisionTreeClassifier\n",
    "from sklearn.model_selection import GridSearchCV\n",
    "from sklearn.model_selection import RandomizedSearchCV\n",
    "from sklearn.model_selection import cross_val_score\n",
    "from sklearn.metrics import classification_report, confusion_matrix\n",
    "from sklearn.ensemble import GradientBoostingClassifier\n",
    "from sklearn.neural_network import MLPClassifier\n",
    "from imblearn.over_sampling import SMOTE \n",
    "from sklearn.svm import SVC\n",
    "from collections import Counter #for Smote,\n",
    "from imblearn.under_sampling import RandomUnderSampler\n",
    "from sklearn.model_selection import StratifiedKFold\n",
    "from evolutionary_search import EvolutionaryAlgorithmSearchCV\n",
    "\n",
    "\n",
    "# Import libraries for feature selection\n",
    "from sklearn.feature_selection import SelectFromModel\n",
    "from sklearn.feature_selection import SelectKBest\n",
    "from sklearn.feature_selection import chi2, f_classif\n",
    "from genetic_selection import GeneticSelectionCV\n",
    "#from mlxtend.feature_selection import SequentialFeatureSelector as SFS\n",
    "\n",
    "import warnings\n",
    "warnings.filterwarnings(\"ignore\")"
   ]
  },
  {
   "cell_type": "code",
   "execution_count": 6,
   "id": "8a683dc4",
   "metadata": {},
   "outputs": [],
   "source": [
    "train_data= pd.read_csv(r\"C:\\Users\\dipti\\Documents\\CIS508\\Assignment 4\\train.csv\")\n",
    "test_data= pd.read_csv(r\"C:\\Users\\dipti\\Documents\\CIS508\\Assignment 4\\test.csv\")"
   ]
  },
  {
   "cell_type": "code",
   "execution_count": 7,
   "id": "727a11c1",
   "metadata": {},
   "outputs": [
    {
     "data": {
      "text/plain": [
       "Counter({1: 3008, 0: 3008})"
      ]
     },
     "execution_count": 7,
     "metadata": {},
     "output_type": "execute_result"
    }
   ],
   "source": [
    "train_0=train_data[train_data['TARGET']==0]\n",
    "len(train_0)\n",
    "\n",
    "train_1=train_data[train_data['TARGET']==1]\n",
    "len(train_1)\n",
    "\n",
    "#Undersampling with the length of train_1 to balance the data\n",
    "\n",
    "train_undersample=pd.concat([train_1,train_0.sample(len(train_1))])\n",
    "Counter(train_undersample['TARGET'])"
   ]
  },
  {
   "cell_type": "code",
   "execution_count": 8,
   "id": "faa10486",
   "metadata": {},
   "outputs": [
    {
     "name": "stdout",
     "output_type": "stream",
     "text": [
      "(6016, 370)\n",
      "(6016, 1)\n"
     ]
    }
   ],
   "source": [
    "X_train = train_undersample.drop(['TARGET'],axis=1)\n",
    "Y_train = train_undersample[['TARGET']]\n",
    "print(X_train.shape)\n",
    "print(Y_train.shape)"
   ]
  },
  {
   "cell_type": "markdown",
   "id": "be06b29d",
   "metadata": {},
   "source": [
    "### Decision Tree Classifier for 25 Features"
   ]
  },
  {
   "cell_type": "code",
   "execution_count": 10,
   "id": "fd8fa266",
   "metadata": {},
   "outputs": [],
   "source": [
    "x = X_train.iloc[:,:-1].values\n",
    "y = Y_train.iloc[:].values\n",
    "\n",
    "clf = DecisionTreeClassifier()\n",
    "model1 = GeneticSelectionCV(\n",
    "    clf, cv=5, verbose=0,\n",
    "    scoring=\"accuracy\", max_features=25,\n",
    "    n_population=100, crossover_proba=0.5,\n",
    "    mutation_proba=0.2, n_generations=100,\n",
    "    crossover_independent_proba=0.5,\n",
    "    mutation_independent_proba=0.04,\n",
    "    tournament_size=3, n_gen_no_change=10,\n",
    "    caching=True, n_jobs=-1)\n",
    "model1 = model1.fit(x, y)"
   ]
  },
  {
   "cell_type": "code",
   "execution_count": 11,
   "id": "d1f193fb",
   "metadata": {},
   "outputs": [
    {
     "name": "stdout",
     "output_type": "stream",
     "text": [
      "[False False  True False False False False False False False False False\n",
      " False False False False False False False  True  True False False False\n",
      " False False False False False False False False False False False  True\n",
      " False False False False False False False False False False False False\n",
      " False  True False  True False False False False False False False False\n",
      " False False False False False False False False False False False False\n",
      " False False False False False False False False False False False False\n",
      " False False False False False False False False False False False False\n",
      " False False False False False False False False False False False False\n",
      " False False False False False False False False False False False False\n",
      " False False False False False False False False False False False False\n",
      " False False False False False  True False  True False False False False\n",
      " False False False False False False  True False False False False False\n",
      " False False False False False  True False False False False False False\n",
      " False False False False False False False False False False False False\n",
      " False False False  True False False False False  True False False False\n",
      " False False False False False False False False False False False False\n",
      " False False False False False False False False False False False False\n",
      " False False False False False False False False False False False False\n",
      "  True False False False False False False False False False False False\n",
      " False False False False False  True False False False False False False\n",
      " False False False False False False False False False False False False\n",
      " False False False False False False False False False False False False\n",
      " False False False False False False False False False False False False\n",
      " False  True False False False False False False False False False False\n",
      " False False False False False False False False  True False False False\n",
      " False False False False False False False False False False False  True\n",
      " False False  True False False False False  True False False False False\n",
      " False False False False False  True False False False  True False False\n",
      " False False False False False False False False False False False False\n",
      " False False False False False False False False False]\n",
      "\n",
      " cols =  [  2  19  20  35  49  51 137 139 150 161 183 188 228 245 289 308 323 326\n",
      " 331 341 345] \n",
      "\n",
      "Index(['var15', 'imp_sal_var16_ult1', 'ind_var1_0', 'ind_var13_largo_0',\n",
      "       'ind_var24_0', 'ind_var25_cte', 'num_var29', 'num_var30', 'num_var37_0',\n",
      "       'num_var44', 'saldo_var30', 'saldo_var37', 'imp_aport_var17_ult1',\n",
      "       'imp_trasp_var17_out_hace3', 'num_meses_var33_ult3',\n",
      "       'num_reemb_var33_hace3', 'num_venta_var44_ult1', 'num_var45_ult1',\n",
      "       'saldo_medio_var5_ult1', 'saldo_medio_var13_corto_hace2',\n",
      "       'saldo_medio_var13_largo_hace2'],\n",
      "      dtype='object')\n"
     ]
    }
   ],
   "source": [
    "#Do feature selection using the genetic algo\n",
    "#Get column names\n",
    "print(model1.get_support())\n",
    "\n",
    "#Get column names\n",
    "cols_model1 = model1.get_support(indices=True) #get column indices\n",
    "print(\"\\n cols = \", cols_model1, \"\\n\")\n",
    "features_model1=X_train.columns[cols_model1] #Get col \n",
    "print(features_model1)"
   ]
  },
  {
   "cell_type": "markdown",
   "id": "b056cc2d",
   "metadata": {},
   "source": [
    "### Decision Tree Classifier for 50 Features"
   ]
  },
  {
   "cell_type": "code",
   "execution_count": 12,
   "id": "aa0fcba8",
   "metadata": {},
   "outputs": [],
   "source": [
    "x = X_train.iloc[:,:-1].values\n",
    "y = Y_train.iloc[:].values\n",
    "\n",
    "clf = DecisionTreeClassifier()\n",
    "model2 = GeneticSelectionCV(\n",
    "    clf, cv=5, verbose=0,\n",
    "    scoring=\"accuracy\", max_features=50,\n",
    "    n_population=100, crossover_proba=0.5,\n",
    "    mutation_proba=0.2, n_generations=100,\n",
    "    crossover_independent_proba=0.5,\n",
    "    mutation_independent_proba=0.04,\n",
    "    tournament_size=3, n_gen_no_change=10,\n",
    "    caching=True, n_jobs=-1)\n",
    "model2 = model2.fit(x, y)"
   ]
  },
  {
   "cell_type": "code",
   "execution_count": 13,
   "id": "7e5716a3",
   "metadata": {},
   "outputs": [
    {
     "name": "stdout",
     "output_type": "stream",
     "text": [
      "[False False  True False False False False False  True False  True False\n",
      " False False False False  True  True False False False False  True False\n",
      " False False False False False False False False False False False False\n",
      " False False False False False False False  True False False False False\n",
      " False  True False False False False False False False  True False  True\n",
      " False  True False False False False False False False False False False\n",
      " False False False  True  True False False False False False  True False\n",
      " False False False  True False False False  True False  True False False\n",
      "  True False False  True False False False False False False False False\n",
      "  True False False False False False False False False False  True False\n",
      " False False False False False False False False False False False False\n",
      " False False False False False  True False False False False False False\n",
      " False False False False False  True False False False False False False\n",
      " False  True  True False False False False False False False False False\n",
      " False False False False False False False False  True False False False\n",
      " False False  True  True False False False False False False False False\n",
      " False  True False False False  True False False False False False  True\n",
      " False False False False False False False False False False False False\n",
      " False False False  True False False False False False  True False False\n",
      " False False False False False False False False False False False False\n",
      "  True False False False False False False False False False False False\n",
      " False False False False False False False False False False False False\n",
      " False False False False False False False  True False False False False\n",
      " False False False False False False False False  True False False False\n",
      " False False False False False  True  True False False False False False\n",
      " False False False False False False False False False False False False\n",
      " False False False False False False False False  True False  True False\n",
      " False False False False False  True False False False False  True False\n",
      " False False False  True False  True False False False False False False\n",
      " False False False False False False False False False False False False\n",
      " False False False False False False False False False]\n",
      "\n",
      " cols =  [  2   8  10  16  17  22  43  49  57  59  61  75  76  82  87  91  93  96\n",
      "  99 108 118 137 149 157 158 176 182 183 193 197 203 219 225 240 271 284\n",
      " 293 294 320 322 329 334 339 341] \n",
      "\n"
     ]
    }
   ],
   "source": [
    "#Do feature selection using the genetic algo\n",
    "#Get column names\n",
    "print(model2.get_support())\n",
    "\n",
    "#Get column names\n",
    "cols_model2 = model2.get_support(indices=True) #get column indices\n",
    "print(\"\\n cols = \", cols_model2, \"\\n\")\n",
    "features_model2=X_train.columns[cols_model2] #Get col names"
   ]
  },
  {
   "cell_type": "markdown",
   "id": "22b2f99f",
   "metadata": {},
   "source": [
    "### Random Forest Classfier for 25 Features"
   ]
  },
  {
   "cell_type": "code",
   "execution_count": 14,
   "id": "7a794f28",
   "metadata": {},
   "outputs": [],
   "source": [
    "x = X_train.iloc[:,:-1].values\n",
    "y = Y_train.iloc[:].values\n",
    "\n",
    "rf = RandomForestClassifier()\n",
    "model3 = GeneticSelectionCV(\n",
    "    clf, cv=5, verbose=0,\n",
    "    scoring=\"accuracy\", max_features=25,\n",
    "    n_population=100, crossover_proba=0.5,\n",
    "    mutation_proba=0.2, n_generations=100,\n",
    "    crossover_independent_proba=0.5,\n",
    "    mutation_independent_proba=0.04,\n",
    "    tournament_size=3, n_gen_no_change=10,\n",
    "    caching=True, n_jobs=-1)\n",
    "model3 = model3.fit(x, y)"
   ]
  },
  {
   "cell_type": "code",
   "execution_count": 15,
   "id": "9c71552b",
   "metadata": {},
   "outputs": [
    {
     "name": "stdout",
     "output_type": "stream",
     "text": [
      "[False False  True False False False False False False False False False\n",
      " False False False False False False False False False False  True False\n",
      " False False False False False False False False False False False False\n",
      "  True  True False False False False False False False False False  True\n",
      " False False False False False False False False False False False False\n",
      " False False False False False False False False False False False False\n",
      " False False False False  True False False False False False False False\n",
      " False False False  True False False False False False False False  True\n",
      " False False False False  True False False False False False False False\n",
      " False False False False False False False False False False False  True\n",
      " False False False False False False False False False False False False\n",
      " False False False False False False False False False False False False\n",
      " False False False False False False False False False False False False\n",
      " False False False False False False False False False False False False\n",
      " False  True False False False False False False False False False False\n",
      " False False False  True False False False False False False False False\n",
      " False False False False False False False False False False False False\n",
      " False False  True False False False  True False False  True  True False\n",
      " False False False False False False False False False  True  True False\n",
      " False False False False False False False False False False False False\n",
      " False False False False False False False False False False False False\n",
      " False False False False False False False False False False False False\n",
      " False False False False False False False False False False False False\n",
      " False  True False False False False False False False False False False\n",
      " False  True False False False False False False False False False False\n",
      " False False False False False False False False False False False False\n",
      " False False False False False False False False False False False False\n",
      " False False False False False False False  True False False False False\n",
      " False False False False False  True  True False False False False False\n",
      " False False False False False False False False False False False False\n",
      " False False False False False False False False False]\n",
      "\n",
      " cols =  [  2  22  36  37  47  76  87  95 100 119 169 183 206 210 213 214 225 226\n",
      " 277 289 331 341 342] \n",
      "\n"
     ]
    }
   ],
   "source": [
    "#Do feature selection using the genetic algo\n",
    "#Get column names\n",
    "print(model3.get_support())\n",
    "\n",
    "#Get column names\n",
    "cols_model3 = model3.get_support(indices=True) #get column indices\n",
    "print(\"\\n cols = \", cols_model3, \"\\n\")\n",
    "features_model3=X_train.columns[cols_model3] #Get col names"
   ]
  },
  {
   "cell_type": "markdown",
   "id": "638e2c66",
   "metadata": {},
   "source": [
    "### Random Forest Classifier for 50 Features"
   ]
  },
  {
   "cell_type": "code",
   "execution_count": 16,
   "id": "8415d249",
   "metadata": {},
   "outputs": [],
   "source": [
    "x = X_train.iloc[:,:-1].values\n",
    "y = Y_train.iloc[:].values\n",
    "\n",
    "rf = RandomForestClassifier()\n",
    "model4 = GeneticSelectionCV(\n",
    "    clf, cv=5, verbose=0,\n",
    "    scoring=\"accuracy\", max_features=50,\n",
    "    n_population=100, crossover_proba=0.5,\n",
    "    mutation_proba=0.2, n_generations=100,\n",
    "    crossover_independent_proba=0.5,\n",
    "    mutation_independent_proba=0.04,\n",
    "    tournament_size=3, n_gen_no_change=10,\n",
    "    caching=True, n_jobs=-1)\n",
    "model4 = model4.fit(x, y)"
   ]
  },
  {
   "cell_type": "code",
   "execution_count": 17,
   "id": "3cc4b616",
   "metadata": {},
   "outputs": [
    {
     "name": "stdout",
     "output_type": "stream",
     "text": [
      "[False  True  True False False  True False False False False False False\n",
      " False False False False  True False False False False False False False\n",
      " False False False False False  True False False False False False False\n",
      " False False False  True False False False False False False  True False\n",
      "  True False  True False False False False False False False False  True\n",
      " False False False False False False  True False False False False False\n",
      " False False  True  True False False False False False False False False\n",
      " False False False False False False False False False  True False  True\n",
      " False False False  True False False  True False False False False False\n",
      " False False False False False False False False False False False False\n",
      "  True False False False  True False False False False  True False False\n",
      " False False False  True False False False False False False False False\n",
      " False False  True False False False False False False False False False\n",
      " False False False False  True False False False False False False False\n",
      " False False False False False False False False False False False False\n",
      "  True False False  True False  True False False False False False False\n",
      " False False False False False False False False False False False  True\n",
      " False False False False False False False False False False False False\n",
      " False False False False False False False False  True False False False\n",
      " False False False False False False False False False False False False\n",
      " False False False False False False False False False False False False\n",
      " False False False False False False False False False False False False\n",
      " False  True False False False False False False False False False False\n",
      " False False False  True False  True False False False False False False\n",
      " False False False False False  True False False False False False False\n",
      " False False False False False False False False False  True False False\n",
      " False False False False False False False False False False False False\n",
      " False False False False False  True False False False False False False\n",
      " False False False False False False False False False  True False False\n",
      " False False False False False False  True False False False False False\n",
      " False False False False False False False False False]\n",
      "\n",
      " cols =  [  1   2   5  16  29  39  46  48  50  59  66  74  75  93  95  99 102 120\n",
      " 124 129 135 146 160 180 183 185 203 224 265 279 281 293 309 329 345 354] \n",
      "\n"
     ]
    }
   ],
   "source": [
    "#Do feature selection using the genetic algo\n",
    "#Get column names\n",
    "print(model4.get_support())\n",
    "\n",
    "#Get column names\n",
    "cols_model4 = model4.get_support(indices=True) #get column indices\n",
    "print(\"\\n cols = \", cols_model4, \"\\n\")\n",
    "features_model4=X_train.columns[cols_model4] #Get col names"
   ]
  },
  {
   "cell_type": "code",
   "execution_count": 18,
   "id": "f3f2f453",
   "metadata": {},
   "outputs": [
    {
     "name": "stdout",
     "output_type": "stream",
     "text": [
      "Types [1, 1] and maxint [2, 2] detected\n",
      "--- Evolve in 9 possible combinations ---\n",
      "gen\tnevals\tavg     \tmin     \tmax    \tstd       \n",
      "0  \t50    \t0.392217\t0.378657\t0.40758\t0.00918342\n",
      "1  \t33    \t0.400419\t0.387467\t0.40758\t0.00775149\n",
      "2  \t34    \t0.405801\t0.39129 \t0.40758\t0.00456304\n",
      "3  \t25    \t0.407214\t0.39129 \t0.40758\t0.00228326\n",
      "4  \t33    \t0.40756 \t0.406582\t0.40758\t0.000139628\n",
      "5  \t21    \t0.407001\t0.378657\t0.40758\t0.0040492  \n",
      "Best individual is: {'min_samples_split': 75, 'max_depth': 30}\n",
      "with fitness: 0.40757978723404253\n"
     ]
    }
   ],
   "source": [
    "paramgrid = {'min_samples_split' : (25,50,75),'max_depth': (10,20,30)}\n",
    "\n",
    "\n",
    "cv_dt_25 = EvolutionaryAlgorithmSearchCV(estimator=clf,\n",
    "                                   params=paramgrid,\n",
    "                                   scoring=\"accuracy\",\n",
    "                                   cv=StratifiedKFold(n_splits=4),\n",
    "                                   verbose=1,\n",
    "                                   population_size=50,\n",
    "                                   gene_mutation_prob=0.10,\n",
    "                                   gene_crossover_prob=0.5,\n",
    "                                   tournament_size=3,\n",
    "                                   generations_number=5)\n",
    "cv_dt_25.fit(x, y)"
   ]
  },
  {
   "cell_type": "code",
   "execution_count": 19,
   "id": "ac1a1126",
   "metadata": {},
   "outputs": [
    {
     "name": "stdout",
     "output_type": "stream",
     "text": [
      "Types [1, 1] and maxint [2, 2] detected\n",
      "--- Evolve in 9 possible combinations ---\n",
      "gen\tnevals\tavg     \tmin     \tmax     \tstd       \n",
      "0  \t50    \t0.410652\t0.405253\t0.415891\t0.00430955\n",
      "1  \t30    \t0.414867\t0.407247\t0.415891\t0.00255797\n",
      "2  \t27    \t0.415861\t0.415725\t0.415891\t6.38609e-05\n",
      "3  \t34    \t0.415888\t0.415725\t0.415891\t2.32713e-05\n",
      "4  \t24    \t0.415675\t0.405253\t0.415891\t0.00148907 \n",
      "5  \t32    \t0.415675\t0.405253\t0.415891\t0.00148907 \n",
      "Best individual is: {'min_samples_split': 150, 'max_depth': 150}\n",
      "with fitness: 0.4158909574468085\n"
     ]
    }
   ],
   "source": [
    "paramgrid = {'min_samples_split' : (75,100,150),'max_depth': (50,100,150)}\n",
    "\n",
    "\n",
    "cv_dt_50 = EvolutionaryAlgorithmSearchCV(estimator=clf,\n",
    "                                   params=paramgrid,\n",
    "                                   scoring=\"accuracy\",\n",
    "                                   cv=StratifiedKFold(n_splits=4),\n",
    "                                   verbose=1,\n",
    "                                   population_size=50,\n",
    "                                   gene_mutation_prob=0.10,\n",
    "                                   gene_crossover_prob=0.5,\n",
    "                                   tournament_size=3,\n",
    "                                   generations_number=5)\n",
    "cv_dt_50.fit(x, y)"
   ]
  },
  {
   "cell_type": "code",
   "execution_count": 20,
   "id": "3a2f3496",
   "metadata": {},
   "outputs": [
    {
     "name": "stdout",
     "output_type": "stream",
     "text": [
      "Types [1, 1, 1] and maxint [2, 2, 2] detected\n",
      "--- Evolve in 27 possible combinations ---\n",
      "gen\tnevals\tavg     \tmin     \tmax     \tstd      \n",
      "0  \t50    \t0.660529\t0.580951\t0.683012\t0.0270192\n",
      "1  \t28    \t0.674445\t0.624834\t0.683012\t0.00805669\n",
      "2  \t35    \t0.675585\t0.624834\t0.683012\t0.00809926\n",
      "3  \t34    \t0.677932\t0.665891\t0.683012\t0.00365936\n",
      "4  \t31    \t0.677187\t0.580951\t0.683012\t0.0142797 \n",
      "5  \t27    \t0.681433\t0.674701\t0.683012\t0.00270822\n",
      "Best individual is: {'min_samples_split': 150, 'max_depth': 100, 'min_samples_leaf': 50}\n",
      "with fitness: 0.6830119680851063\n"
     ]
    }
   ],
   "source": [
    "paramgrid = {'min_samples_split' : (75,100,150),'max_depth': (50,100,150), 'min_samples_leaf': (20,30,50)}\n",
    "\n",
    "\n",
    "cv_rf_25 = EvolutionaryAlgorithmSearchCV(estimator=rf,\n",
    "                                   params=paramgrid,\n",
    "                                   scoring=\"accuracy\",\n",
    "                                   cv=StratifiedKFold(n_splits=4),\n",
    "                                   verbose=1,\n",
    "                                   population_size=50,\n",
    "                                   gene_mutation_prob=0.10,\n",
    "                                   gene_crossover_prob=0.5,\n",
    "                                   tournament_size=3,\n",
    "                                   generations_number=5)\n",
    "cv_rf_25.fit(x, y)"
   ]
  },
  {
   "cell_type": "code",
   "execution_count": 21,
   "id": "5403a635",
   "metadata": {},
   "outputs": [
    {
     "name": "stdout",
     "output_type": "stream",
     "text": [
      "Types [1, 1, 1] and maxint [2, 2, 2] detected\n",
      "--- Evolve in 27 possible combinations ---\n",
      "gen\tnevals\tavg    \tmin     \tmax     \tstd      \n",
      "0  \t50    \t0.65113\t0.561835\t0.682347\t0.0393666\n",
      "1  \t32    \t0.672473\t0.559342\t0.682347\t0.0197082\n",
      "2  \t27    \t0.676446\t0.609707\t0.682347\t0.011856 \n",
      "3  \t33    \t0.671855\t0.609707\t0.682347\t0.0199454\n",
      "4  \t34    \t0.677646\t0.633311\t0.682347\t0.0131378\n",
      "5  \t35    \t0.68128 \t0.633311\t0.682347\t0.0068597\n",
      "Best individual is: {'min_samples_split': 150, 'max_depth': 75, 'min_samples_leaf': 50}\n",
      "with fitness: 0.6823470744680851\n"
     ]
    }
   ],
   "source": [
    "paramgrid = {'min_samples_split' : (100,150,175),'max_depth': (75,150,200), 'min_samples_leaf': (10,50,90)}\n",
    "\n",
    "\n",
    "cv_rf_50 = EvolutionaryAlgorithmSearchCV(estimator=rf,\n",
    "                                   params=paramgrid,\n",
    "                                   scoring=\"accuracy\",\n",
    "                                   cv=StratifiedKFold(n_splits=4),\n",
    "                                   verbose=1,\n",
    "                                   population_size=50,\n",
    "                                   gene_mutation_prob=0.10,\n",
    "                                   gene_crossover_prob=0.5,\n",
    "                                   tournament_size=3,\n",
    "                                   generations_number=5)\n",
    "cv_rf_50.fit(x, y)"
   ]
  },
  {
   "cell_type": "code",
   "execution_count": 22,
   "id": "8a77e565",
   "metadata": {},
   "outputs": [],
   "source": [
    "X = train_data.drop(['TARGET'],axis=1)\n",
    "y = train_data[['TARGET']]\n",
    "X_val = test_data"
   ]
  },
  {
   "cell_type": "markdown",
   "id": "67cd7b23",
   "metadata": {},
   "source": [
    "### Saving data files obtained from classifiers"
   ]
  },
  {
   "cell_type": "code",
   "execution_count": 24,
   "id": "ea056706",
   "metadata": {},
   "outputs": [],
   "source": [
    "#Decision Tree\n",
    "\n",
    "f_dt_25=DecisionTreeClassifier(**cv_dt_25.best_params_)\n",
    "f_dt_25.fit(X[features_model1],y)\n",
    "f_dt_25_predict = f_dt_25.predict(X_val[features_model1])\n",
    "\n",
    "pred_df = []\n",
    "for i in zip(test_data['ID'], f_dt_25_predict):    \n",
    "    pred_df.append(i)\n",
    "    \n",
    "pred_df = pd.DataFrame(pred_df, columns = ['ID', 'TARGET'])\n",
    "pred_df.to_csv(r'C:\\Users\\dipti\\Documents\\CIS508\\Assignment 4\\dtc_25.csv',index=None)"
   ]
  },
  {
   "cell_type": "code",
   "execution_count": 25,
   "id": "c50def77",
   "metadata": {},
   "outputs": [],
   "source": [
    "f_dt_50=DecisionTreeClassifier(**cv_dt_50.best_params_)\n",
    "f_dt_50.fit(X[features_model2],y)\n",
    "f_dt_50_predict = f_dt_50.predict(X_val[features_model2])\n",
    "\n",
    "pred_df = []\n",
    "for i in zip(test_data['ID'], f_dt_50_predict):    \n",
    "    pred_df.append(i)\n",
    "    \n",
    "pred_df = pd.DataFrame(pred_df, columns = ['ID', 'TARGET'])\n",
    "pred_df.to_csv(r'C:\\Users\\dipti\\Documents\\CIS508\\Assignment 4\\dtc_50.csv',index=None)"
   ]
  },
  {
   "cell_type": "code",
   "execution_count": 27,
   "id": "13cf0148",
   "metadata": {},
   "outputs": [],
   "source": [
    "f_rf_25=RandomForestClassifier(**cv_rf_25.best_params_)\n",
    "f_rf_25.fit(X[features_model3],y)\n",
    "f_rf_25_predict = f_rf_25.predict(X_val[features_model3])\n",
    "\n",
    "pred_df = []\n",
    "for i in zip(test_data['ID'], f_rf_25_predict):    \n",
    "    pred_df.append(i)\n",
    "    \n",
    "pred_df = pd.DataFrame(pred_df, columns = ['ID', 'TARGET'])\n",
    "pred_df.to_csv(r'C:\\Users\\dipti\\Documents\\CIS508\\Assignment 4\\rf_25.csv',index=None)"
   ]
  },
  {
   "cell_type": "code",
   "execution_count": 28,
   "id": "34f0689f",
   "metadata": {},
   "outputs": [],
   "source": [
    "f_rf_50=RandomForestClassifier(**cv_rf_50.best_params_)\n",
    "f_rf_50.fit(X[features_model4],y)\n",
    "f_rf_50_predict = f_rf_50.predict(X_val[features_model4])\n",
    "\n",
    "pred_df = []\n",
    "for i in zip(test_data['ID'], f_rf_50_predict):    \n",
    "    pred_df.append(i)\n",
    "    \n",
    "pred_df = pd.DataFrame(pred_df, columns = ['ID', 'TARGET'])\n",
    "pred_df.to_csv(r'C:\\Users\\dipti\\Documents\\CIS508\\Assignment 4\\rf_50.csv',index=None)"
   ]
  }
 ],
 "metadata": {
  "kernelspec": {
   "display_name": "Python 3 (ipykernel)",
   "language": "python",
   "name": "python3"
  },
  "language_info": {
   "codemirror_mode": {
    "name": "ipython",
    "version": 3
   },
   "file_extension": ".py",
   "mimetype": "text/x-python",
   "name": "python",
   "nbconvert_exporter": "python",
   "pygments_lexer": "ipython3",
   "version": "3.9.13"
  }
 },
 "nbformat": 4,
 "nbformat_minor": 5
}
